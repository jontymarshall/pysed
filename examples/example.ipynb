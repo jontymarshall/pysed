{
 "cells": [
  {
   "cell_type": "code",
   "execution_count": 1,
   "metadata": {
    "collapsed": false
   },
   "outputs": [],
   "source": [
    "import pysed\n",
    "\n",
    "target = \"hd21997\""
   ]
  },
  {
   "cell_type": "code",
   "execution_count": 2,
   "metadata": {
    "collapsed": false
   },
   "outputs": [
    {
     "name": "stdout",
     "output_type": "stream",
     "text": [
      "TD1\n",
      "6.09e-12 6.96e-12 8.31e-12 2.53e-12\n",
      "1.4e-13 3.1e-13 4.7e-13 2.4e-13\n",
      "org:  6.50323999405 f:  0.323223617063 new:  6.40982842297\n",
      "org:  6.37658985138 f:  0.441395789505 new:  6.2490265423\n",
      "Tycho\n",
      "11967.2967553 11272.4594697\n",
      "144.419361373 98.7905662384\n",
      "J-H 0.0440001\n",
      "H-K 0.0149999\n",
      "2MASS\n",
      "5481.36028876 3666.90828894 2420.64160377\n",
      "104.999738705 90.0637228938 50.7385101737\n",
      "Spitzer\n",
      "122.05 54.6 123.99 619.5\n",
      "2.26 2.18 7.73 31.81\n",
      "WISE\n",
      "1126.98135079 656.130558442 113.423489398 59.3693111342\n",
      "0.1 0.039 0.015 0.034\n",
      "AKARI\n",
      "200.39999485 --\n",
      "19.7999998927 nan\n"
     ]
    },
    {
     "name": "stderr",
     "output_type": "stream",
     "text": [
      "/home/zackdraper/anaconda2/lib/python2.7/site-packages/numpy/ma/core.py:4185: UserWarning: Warning: converting a masked element to nan.\n",
      "  warnings.warn(\"Warning: converting a masked element to nan.\")\n"
     ]
    }
   ],
   "source": [
    "data = pysed.sed_catalog_search(target)"
   ]
  },
  {
   "cell_type": "code",
   "execution_count": 3,
   "metadata": {
    "collapsed": true
   },
   "outputs": [],
   "source": [
    "# add PACS data to HD21997\n",
    "data = pysed.add_photometry(data,[100,665.4,47.5,\"PACS\"])\n",
    "data = pysed.add_photometry(data,[160,410.8,30,\"PACS\"])"
   ]
  },
  {
   "cell_type": "code",
   "execution_count": 4,
   "metadata": {
    "collapsed": false
   },
   "outputs": [
    {
     "name": "stdout",
     "output_type": "stream",
     "text": [
      "Stellar Teff: 6987.40919619\n"
     ]
    },
    {
     "name": "stderr",
     "output_type": "stream",
     "text": [
      "/home/zackdraper/anaconda2/lib/python2.7/site-packages/scipy/optimize/minpack.py:715: OptimizeWarning: Covariance of the parameters could not be estimated\n",
      "  category=OptimizeWarning)\n",
      "/home/zackdraper/pysed/pysed.py:365: RuntimeWarning: overflow encountered in exp\n",
      "  f=((2*h*c**2)/lam**5)*(1/(np.exp(h*c/(lam*k*T))-1)) # F_nu in mJy\n"
     ]
    },
    {
     "name": "stdout",
     "output_type": "stream",
     "text": [
      "Dust Teff: 68.0149304388\n",
      "Output File: hd21997_single.png\n"
     ]
    }
   ],
   "source": [
    "pysed.fit_sed(target,data,nbb='single') #nbb can be double"
   ]
  },
  {
   "cell_type": "code",
   "execution_count": 4,
   "metadata": {
    "collapsed": false
   },
   "outputs": [
    {
     "name": "stdout",
     "output_type": "stream",
     "text": [
      "./PHEONIX/lte08800-4.50-0.0.PHOENIX-ACES-AGSS-COND-SPECINT-2011.fits\n"
     ]
    },
    {
     "name": "stderr",
     "output_type": "stream",
     "text": [
      "/home/zackdraper/anaconda2/lib/python2.7/site-packages/scipy/optimize/minpack.py:715: OptimizeWarning: Covariance of the parameters could not be estimated\n",
      "  category=OptimizeWarning)\n"
     ]
    }
   ],
   "source": [
    "pheonix_models = pysed.compile_stellar_models('./PHEONIX/')"
   ]
  },
  {
   "cell_type": "code",
   "execution_count": 5,
   "metadata": {
    "collapsed": false
   },
   "outputs": [
    {
     "name": "stdout",
     "output_type": "stream",
     "text": [
      "Stellar Teff: 8800.0\n"
     ]
    },
    {
     "name": "stderr",
     "output_type": "stream",
     "text": [
      "/home/zackdraper/pysed/pysed.py:365: RuntimeWarning: overflow encountered in exp\n",
      "  f=((2*h*c**2)/lam**5)*(1/(np.exp(h*c/(lam*k*T))-1)) # F_nu in mJy\n"
     ]
    },
    {
     "name": "stdout",
     "output_type": "stream",
     "text": [
      "Dust Teff: 68.2203523967\n",
      "Output File: hd21997_single.png\n"
     ]
    }
   ],
   "source": [
    "pysed.fit_sed(target,data,nbb='single',star_type=\"stellar\",star_models=pheonix_models) "
   ]
  },
  {
   "cell_type": "code",
   "execution_count": null,
   "metadata": {
    "collapsed": true
   },
   "outputs": [],
   "source": []
  }
 ],
 "metadata": {
  "kernelspec": {
   "display_name": "Python 2",
   "language": "python",
   "name": "python2"
  },
  "language_info": {
   "codemirror_mode": {
    "name": "ipython",
    "version": 2
   },
   "file_extension": ".py",
   "mimetype": "text/x-python",
   "name": "python",
   "nbconvert_exporter": "python",
   "pygments_lexer": "ipython2",
   "version": "2.7.13"
  }
 },
 "nbformat": 4,
 "nbformat_minor": 2
}
